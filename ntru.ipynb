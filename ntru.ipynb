{
 "cells": [
  {
   "metadata": {},
   "cell_type": "markdown",
   "source": "## Testing polynomial modulo operations",
   "id": "dce984442d1a9605"
  },
  {
   "metadata": {},
   "cell_type": "code",
   "outputs": [],
   "execution_count": 1,
   "source": [
    "from polynomial_helper import Polynomial\n",
    "%load_ext autoreload\n",
    "%autoreload 2\n",
    "\n",
    "a1 = Polynomial([1,2,3])\n",
    "a2 = Polynomial([4,8,12])\n",
    "\n",
    "a3 = a1.multiply_mod(a2,2,a1)"
   ],
   "id": "initial_id"
  },
  {
   "metadata": {
    "ExecuteTime": {
     "end_time": "2024-12-04T14:40:01.362238Z",
     "start_time": "2024-12-04T14:40:01.304198Z"
    }
   },
   "cell_type": "code",
   "source": "a3",
   "id": "669e2d297f3b5551",
   "outputs": [
    {
     "data": {
      "text/plain": [
       "36x^4+48x^3+40x^2+16x+4"
      ]
     },
     "execution_count": 13,
     "metadata": {},
     "output_type": "execute_result"
    }
   ],
   "execution_count": 13
  },
  {
   "metadata": {
    "ExecuteTime": {
     "end_time": "2024-12-04T14:40:17.505578Z",
     "start_time": "2024-12-04T14:40:17.479340Z"
    }
   },
   "cell_type": "code",
   "source": "print(a3)",
   "id": "393b79ddc0d73bae",
   "outputs": [
    {
     "name": "stdout",
     "output_type": "stream",
     "text": [
      "36x^4+48x^3+40x^2+16x+4\n"
     ]
    }
   ],
   "execution_count": 14
  },
  {
   "metadata": {
    "ExecuteTime": {
     "end_time": "2024-12-04T15:34:09.959679Z",
     "start_time": "2024-12-04T15:34:09.757648Z"
    }
   },
   "cell_type": "code",
   "source": "a1",
   "id": "9e280f2057fc7771",
   "outputs": [
    {
     "data": {
      "text/plain": [
       "1x^2+-3x+-10"
      ]
     },
     "execution_count": 30,
     "metadata": {},
     "output_type": "execute_result"
    }
   ],
   "execution_count": 30
  },
  {
   "metadata": {
    "ExecuteTime": {
     "end_time": "2024-12-04T14:40:18.146557Z",
     "start_time": "2024-12-04T14:40:18.119288Z"
    }
   },
   "cell_type": "code",
   "source": "a2",
   "id": "98feef6f11254df",
   "outputs": [
    {
     "data": {
      "text/plain": [
       "12x^2+8x+4"
      ]
     },
     "execution_count": 16,
     "metadata": {},
     "output_type": "execute_result"
    }
   ],
   "execution_count": 16
  },
  {
   "metadata": {
    "ExecuteTime": {
     "end_time": "2024-12-04T15:07:55.556832Z",
     "start_time": "2024-12-04T15:07:55.487176Z"
    }
   },
   "cell_type": "code",
   "source": "a2.add_mod(a1,2)",
   "id": "bc3acc6e517a58d0",
   "outputs": [
    {
     "data": {
      "text/plain": [
       "15x^2+10x+5"
      ]
     },
     "execution_count": 17,
     "metadata": {},
     "output_type": "execute_result"
    }
   ],
   "execution_count": 17
  },
  {
   "metadata": {
    "ExecuteTime": {
     "end_time": "2024-12-04T15:10:35.995886Z",
     "start_time": "2024-12-04T15:10:35.884437Z"
    }
   },
   "cell_type": "code",
   "source": "a2.substract_mod(a1,2)",
   "id": "5ad8dcfe03c7cd4a",
   "outputs": [
    {
     "data": {
      "text/plain": [
       "9x^2+6x+3"
      ]
     },
     "execution_count": 18,
     "metadata": {},
     "output_type": "execute_result"
    }
   ],
   "execution_count": 18
  },
  {
   "metadata": {
    "ExecuteTime": {
     "end_time": "2024-12-04T16:07:57.197701Z",
     "start_time": "2024-12-04T16:07:57.170583Z"
    }
   },
   "cell_type": "code",
   "source": [
    "a1 = Polynomial([-10,-3,1])\n",
    "a2 = Polynomial([2,1])\n",
    "\n",
    "a1.divide_by(a2,None)"
   ],
   "id": "bf51d9f88783dbb8",
   "outputs": [
    {
     "data": {
      "text/plain": [
       "(1.0x-5.0, 0)"
      ]
     },
     "execution_count": 46,
     "metadata": {},
     "output_type": "execute_result"
    }
   ],
   "execution_count": 46
  },
  {
   "metadata": {
    "ExecuteTime": {
     "end_time": "2024-12-04T16:11:27.637640Z",
     "start_time": "2024-12-04T16:11:27.604838Z"
    }
   },
   "cell_type": "code",
   "source": [
    "\n",
    "a = Polynomial([1,1,1]) # 1+x+x^2\n",
    "b = Polynomial([0,1,0,1]) # x+x^3\n",
    "\n",
    "mod = Polynomial([1,0,0,0,1]) # 1+x^4\n",
    "\n",
    "print(a.multiply_mod(b,2,mod)) # Should be x^2+1"
   ],
   "id": "e70b9aad0567fd1e",
   "outputs": [
    {
     "name": "stdout",
     "output_type": "stream",
     "text": [
      "1.0x^2+1.0\n"
     ]
    }
   ],
   "execution_count": 47
  },
  {
   "metadata": {},
   "cell_type": "code",
   "outputs": [],
   "execution_count": null,
   "source": "",
   "id": "9044947308ce17b4"
  }
 ],
 "metadata": {
  "kernelspec": {
   "display_name": "Python 3",
   "language": "python",
   "name": "python3"
  },
  "language_info": {
   "codemirror_mode": {
    "name": "ipython",
    "version": 2
   },
   "file_extension": ".py",
   "mimetype": "text/x-python",
   "name": "python",
   "nbconvert_exporter": "python",
   "pygments_lexer": "ipython2",
   "version": "2.7.6"
  }
 },
 "nbformat": 4,
 "nbformat_minor": 5
}
