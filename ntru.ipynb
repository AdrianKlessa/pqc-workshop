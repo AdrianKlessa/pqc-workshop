{
 "cells": [
  {
   "metadata": {},
   "cell_type": "markdown",
   "source": "## Testing polynomial modulo operations",
   "id": "dce984442d1a9605"
  },
  {
   "metadata": {
    "ExecuteTime": {
     "end_time": "2024-12-04T17:39:58.810594Z",
     "start_time": "2024-12-04T17:39:58.725754Z"
    }
   },
   "cell_type": "code",
   "source": [
    "from polynomial_helper import Polynomial\n",
    "%load_ext autoreload\n",
    "%autoreload 2\n",
    "\n",
    "a1 = Polynomial([1,2,3])\n",
    "a2 = Polynomial([4,8,12])\n",
    "\n",
    "a3 = a1.multiply_mod(a2,2,a1)"
   ],
   "id": "initial_id",
   "outputs": [],
   "execution_count": 1
  },
  {
   "metadata": {
    "ExecuteTime": {
     "end_time": "2024-12-04T14:40:01.362238Z",
     "start_time": "2024-12-04T14:40:01.304198Z"
    }
   },
   "cell_type": "code",
   "source": "a3",
   "id": "669e2d297f3b5551",
   "outputs": [
    {
     "data": {
      "text/plain": [
       "36x^4+48x^3+40x^2+16x+4"
      ]
     },
     "execution_count": 13,
     "metadata": {},
     "output_type": "execute_result"
    }
   ],
   "execution_count": 13
  },
  {
   "metadata": {
    "ExecuteTime": {
     "end_time": "2024-12-04T14:40:17.505578Z",
     "start_time": "2024-12-04T14:40:17.479340Z"
    }
   },
   "cell_type": "code",
   "source": "print(a3)",
   "id": "393b79ddc0d73bae",
   "outputs": [
    {
     "name": "stdout",
     "output_type": "stream",
     "text": [
      "36x^4+48x^3+40x^2+16x+4\n"
     ]
    }
   ],
   "execution_count": 14
  },
  {
   "metadata": {
    "ExecuteTime": {
     "end_time": "2024-12-04T15:34:09.959679Z",
     "start_time": "2024-12-04T15:34:09.757648Z"
    }
   },
   "cell_type": "code",
   "source": "a1",
   "id": "9e280f2057fc7771",
   "outputs": [
    {
     "data": {
      "text/plain": [
       "1x^2+-3x+-10"
      ]
     },
     "execution_count": 30,
     "metadata": {},
     "output_type": "execute_result"
    }
   ],
   "execution_count": 30
  },
  {
   "metadata": {
    "ExecuteTime": {
     "end_time": "2024-12-04T14:40:18.146557Z",
     "start_time": "2024-12-04T14:40:18.119288Z"
    }
   },
   "cell_type": "code",
   "source": "a2",
   "id": "98feef6f11254df",
   "outputs": [
    {
     "data": {
      "text/plain": [
       "12x^2+8x+4"
      ]
     },
     "execution_count": 16,
     "metadata": {},
     "output_type": "execute_result"
    }
   ],
   "execution_count": 16
  },
  {
   "metadata": {
    "ExecuteTime": {
     "end_time": "2024-12-04T15:07:55.556832Z",
     "start_time": "2024-12-04T15:07:55.487176Z"
    }
   },
   "cell_type": "code",
   "source": "a2.add_mod(a1,2)",
   "id": "bc3acc6e517a58d0",
   "outputs": [
    {
     "data": {
      "text/plain": [
       "15x^2+10x+5"
      ]
     },
     "execution_count": 17,
     "metadata": {},
     "output_type": "execute_result"
    }
   ],
   "execution_count": 17
  },
  {
   "metadata": {
    "ExecuteTime": {
     "end_time": "2024-12-04T15:10:35.995886Z",
     "start_time": "2024-12-04T15:10:35.884437Z"
    }
   },
   "cell_type": "code",
   "source": "a2.substract_mod(a1,2)",
   "id": "5ad8dcfe03c7cd4a",
   "outputs": [
    {
     "data": {
      "text/plain": [
       "9x^2+6x+3"
      ]
     },
     "execution_count": 18,
     "metadata": {},
     "output_type": "execute_result"
    }
   ],
   "execution_count": 18
  },
  {
   "metadata": {
    "ExecuteTime": {
     "end_time": "2024-12-04T16:07:57.197701Z",
     "start_time": "2024-12-04T16:07:57.170583Z"
    }
   },
   "cell_type": "code",
   "source": [
    "a1 = Polynomial([-10,-3,1])\n",
    "a2 = Polynomial([2,1])\n",
    "\n",
    "a1.divide_by(a2,None)"
   ],
   "id": "bf51d9f88783dbb8",
   "outputs": [
    {
     "data": {
      "text/plain": [
       "(1.0x-5.0, 0)"
      ]
     },
     "execution_count": 46,
     "metadata": {},
     "output_type": "execute_result"
    }
   ],
   "execution_count": 46
  },
  {
   "metadata": {
    "ExecuteTime": {
     "end_time": "2024-12-04T16:11:27.637640Z",
     "start_time": "2024-12-04T16:11:27.604838Z"
    }
   },
   "cell_type": "code",
   "source": [
    "\n",
    "a = Polynomial([1,1,1]) # 1+x+x^2\n",
    "b = Polynomial([0,1,0,1]) # x+x^3\n",
    "\n",
    "mod = Polynomial([1,0,0,0,1]) # 1+x^4\n",
    "\n",
    "print(a.multiply_mod(b,2,mod)) # Should be x^2+1"
   ],
   "id": "e70b9aad0567fd1e",
   "outputs": [
    {
     "name": "stdout",
     "output_type": "stream",
     "text": [
      "1.0x^2+1.0\n"
     ]
    }
   ],
   "execution_count": 47
  },
  {
   "metadata": {},
   "cell_type": "markdown",
   "source": "## Polynomial modulo inverse",
   "id": "95af1a3df06c9f74"
  },
  {
   "metadata": {
    "ExecuteTime": {
     "end_time": "2024-12-04T18:06:17.192018Z",
     "start_time": "2024-12-04T18:06:17.120760Z"
    }
   },
   "cell_type": "code",
   "source": [
    "# https://math.stackexchange.com/questions/124300/finding-inverse-of-polynomial-in-a-field\n",
    "a = Polynomial([1,0,1]) # x^2 + 1\n",
    "p = Polynomial([1,2,0,1]) # x^3+2x+1\n",
    "print(a)\n",
    "print(p)\n",
    "print(f\"inverse: {a.get_inverse(p, 3)}\")"
   ],
   "id": "e13c1690a4bca141",
   "outputs": [
    {
     "name": "stdout",
     "output_type": "stream",
     "text": [
      "1x^2+1\n",
      "1x^3+2x+1\n",
      "r: 1x^3+2x+1\n",
      "r_prime: 1x^2+1\n",
      "q: 1.0x\n",
      "right1: 1.0x+1.0\n",
      "left1: 1x^2+1\n",
      "right2: 2.0x\n",
      "left2: 1\n",
      "1.0x+1.0\n",
      "r: 1x^2+1\n",
      "r_prime: 1.0x+1.0\n",
      "q: 1.0x+2.0\n",
      "right1: 2.0\n",
      "left1: 1.0x+1.0\n",
      "right2: 1.0x^2+2.0x+1.0\n",
      "left2: 2.0x\n",
      "2.0\n",
      "r: 1.0x+1.0\n",
      "r_prime: 2.0\n",
      "q: 0.5x+0.5\n",
      "right1: 0\n",
      "left1: 2.0\n",
      "right2: 2.5x^3+1.5x^2+0.5x+2.5\n",
      "left2: 1.0x^2+2.0x+1.0\n",
      "0\n",
      "inverse: 2.0x^2+1.0x+2.0\n"
     ]
    }
   ],
   "execution_count": 15
  },
  {
   "metadata": {
    "ExecuteTime": {
     "end_time": "2024-12-04T18:06:04.479848Z",
     "start_time": "2024-12-04T18:06:04.448481Z"
    }
   },
   "cell_type": "code",
   "source": "Polynomial([1,2,1]).multiply_mod(Polynomial([1,0,1]),3,Polynomial([1,2,0,1]))",
   "id": "55a94ce04f953790",
   "outputs": [
    {
     "data": {
      "text/plain": [
       "2.0"
      ]
     },
     "execution_count": 14,
     "metadata": {},
     "output_type": "execute_result"
    }
   ],
   "execution_count": 14
  },
  {
   "metadata": {
    "ExecuteTime": {
     "end_time": "2024-12-04T18:06:31.170900Z",
     "start_time": "2024-12-04T18:06:31.137690Z"
    }
   },
   "cell_type": "code",
   "source": [
    "a = Polynomial([1,1,0,0,1,0,1]) # x^6 +x^4+x+1\n",
    "p = Polynomial([1,1,0,1,1,0,0,0,1]) # x^8+x^4+x^3+x+1\n",
    "print(a)\n",
    "print(p)\n",
    "print(f\"inverse: {a.get_inverse(p, 2)}\")"
   ],
   "id": "657e71602fffc0c",
   "outputs": [
    {
     "name": "stdout",
     "output_type": "stream",
     "text": [
      "1x^6+1x^4+1x+1\n",
      "1x^8+1x^4+1x^3+1x+1\n",
      "r: 1x^8+1x^4+1x^3+1x+1\n",
      "r_prime: 1x^6+1x^4+1x+1\n",
      "q: 1.0x^2+1.0\n",
      "right1: 1.0x^2\n",
      "left1: 1x^6+1x^4+1x+1\n",
      "right2: 1.0x^2+1.0\n",
      "left2: 1\n",
      "1.0x^2\n",
      "r: 1x^6+1x^4+1x+1\n",
      "r_prime: 1.0x^2\n",
      "q: 1.0x^4+1.0x^2\n",
      "right1: 1.0x+1.0\n",
      "left1: 1.0x^2\n",
      "right2: 1.0x^6+1.0x^2+1.0\n",
      "left2: 1.0x^2+1.0\n",
      "1.0x+1.0\n",
      "r: 1.0x^2\n",
      "r_prime: 1.0x+1.0\n",
      "q: 1.0x+1.0\n",
      "right1: 1.0\n",
      "left1: 1.0x+1.0\n",
      "right2: 1.0x^7+1.0x^6+1.0x^3+1.0x\n",
      "left2: 1.0x^6+1.0x^2+1.0\n",
      "1.0\n",
      "r: 1.0x+1.0\n",
      "r_prime: 1.0\n",
      "q: 1.0x+1.0\n",
      "right1: 0\n",
      "left1: 1.0\n",
      "right2: 1.0x^8+1.0x^4+1.0x^3+1.0x+1.0\n",
      "left2: 1.0x^7+1.0x^6+1.0x^3+1.0x\n",
      "0\n",
      "inverse: 1.0x^7+1.0x^6+1.0x^3+1.0x\n"
     ]
    }
   ],
   "execution_count": 16
  },
  {
   "metadata": {
    "ExecuteTime": {
     "end_time": "2024-12-04T17:40:05.848854Z",
     "start_time": "2024-12-04T17:40:05.820014Z"
    }
   },
   "cell_type": "code",
   "source": "Polynomial([1,1,1]).divide_by(Polynomial([1]),None)",
   "id": "bc7e9d69a9dd6444",
   "outputs": [
    {
     "data": {
      "text/plain": [
       "(1.0x^2+1.0x+1.0, 0)"
      ]
     },
     "execution_count": 5,
     "metadata": {},
     "output_type": "execute_result"
    }
   ],
   "execution_count": 5
  },
  {
   "metadata": {
    "ExecuteTime": {
     "end_time": "2024-12-04T18:11:28.467415Z",
     "start_time": "2024-12-04T18:11:28.436502Z"
    }
   },
   "cell_type": "code",
   "source": [
    "#https://math.stackexchange.com/questions/637531/calculate-gcdx4x1-x3x2-and-a-bezout-identity-in-mathbbf-2/637565#637565\n",
    "\n",
    "a = Polynomial([0,0,1,1]) # x^3+x^2\n",
    "p = Polynomial([1,1,0,0,1]) # x^4+x+1\n",
    "print(a)\n",
    "print(p)\n",
    "print(f\"inverse: {a.get_inverse(p, 2)}\")"
   ],
   "id": "89af91a3461ddf9b",
   "outputs": [
    {
     "name": "stdout",
     "output_type": "stream",
     "text": [
      "1x^3+1x^2\n",
      "1x^4+1x+1\n",
      "r: 1x^4+1x+1\n",
      "r_prime: 1x^3+1x^2\n",
      "q: 1.0x+1.0\n",
      "right1: 1.0x^2+1.0x+1.0\n",
      "left1: 1x^3+1x^2\n",
      "right2: 1.0x+1.0\n",
      "left2: 1\n",
      "1.0x^2+1.0x+1.0\n",
      "r: 1x^3+1x^2\n",
      "r_prime: 1.0x^2+1.0x+1.0\n",
      "q: 1.0x\n",
      "right1: 1.0x\n",
      "left1: 1.0x^2+1.0x+1.0\n",
      "right2: 1.0x^2+1.0x+1.0\n",
      "left2: 1.0x+1.0\n",
      "1.0x\n",
      "r: 1.0x^2+1.0x+1.0\n",
      "r_prime: 1.0x\n",
      "q: 1.0x+1.0\n",
      "right1: 1.0\n",
      "left1: 1.0x\n",
      "right2: 1.0x^3+1.0x\n",
      "left2: 1.0x^2+1.0x+1.0\n",
      "1.0\n",
      "r: 1.0x\n",
      "r_prime: 1.0\n",
      "q: 1.0x\n",
      "right1: 0\n",
      "left1: 1.0\n",
      "right2: 1.0x^4+1.0x+1.0\n",
      "left2: 1.0x^3+1.0x\n",
      "0\n",
      "inverse: 1.0x^3+1.0x\n"
     ]
    }
   ],
   "execution_count": 17
  },
  {
   "metadata": {},
   "cell_type": "code",
   "outputs": [],
   "execution_count": null,
   "source": "",
   "id": "4211c3150ad634a2"
  }
 ],
 "metadata": {
  "kernelspec": {
   "display_name": "Python 3",
   "language": "python",
   "name": "python3"
  },
  "language_info": {
   "codemirror_mode": {
    "name": "ipython",
    "version": 2
   },
   "file_extension": ".py",
   "mimetype": "text/x-python",
   "name": "python",
   "nbconvert_exporter": "python",
   "pygments_lexer": "ipython2",
   "version": "2.7.6"
  }
 },
 "nbformat": 4,
 "nbformat_minor": 5
}
