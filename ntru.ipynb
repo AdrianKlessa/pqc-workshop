{
 "cells": [
  {
   "cell_type": "code",
   "id": "initial_id",
   "metadata": {
    "collapsed": true,
    "ExecuteTime": {
     "end_time": "2024-12-04T14:34:12.116760Z",
     "start_time": "2024-12-04T14:34:12.032674Z"
    }
   },
   "source": [
    "from polynomial_helper import Polynomial\n",
    "%load_ext autoreload\n",
    "%autoreload 2\n",
    "\n",
    "a1 = Polynomial([1,2,3])\n",
    "a2 = Polynomial([4,8,12])\n",
    "\n",
    "a3 = a1.multiply_mod(a2,2,a1)"
   ],
   "outputs": [],
   "execution_count": 1
  },
  {
   "metadata": {
    "ExecuteTime": {
     "end_time": "2024-12-04T14:40:01.362238Z",
     "start_time": "2024-12-04T14:40:01.304198Z"
    }
   },
   "cell_type": "code",
   "source": "a3",
   "id": "669e2d297f3b5551",
   "outputs": [
    {
     "data": {
      "text/plain": [
       "36x^4+48x^3+40x^2+16x+4"
      ]
     },
     "execution_count": 13,
     "metadata": {},
     "output_type": "execute_result"
    }
   ],
   "execution_count": 13
  },
  {
   "metadata": {
    "ExecuteTime": {
     "end_time": "2024-12-04T14:40:17.505578Z",
     "start_time": "2024-12-04T14:40:17.479340Z"
    }
   },
   "cell_type": "code",
   "source": "print(a3)",
   "id": "393b79ddc0d73bae",
   "outputs": [
    {
     "name": "stdout",
     "output_type": "stream",
     "text": [
      "36x^4+48x^3+40x^2+16x+4\n"
     ]
    }
   ],
   "execution_count": 14
  },
  {
   "metadata": {
    "ExecuteTime": {
     "end_time": "2024-12-04T15:34:09.959679Z",
     "start_time": "2024-12-04T15:34:09.757648Z"
    }
   },
   "cell_type": "code",
   "source": "a1",
   "id": "9e280f2057fc7771",
   "outputs": [
    {
     "data": {
      "text/plain": [
       "1x^2+-3x+-10"
      ]
     },
     "execution_count": 30,
     "metadata": {},
     "output_type": "execute_result"
    }
   ],
   "execution_count": 30
  },
  {
   "metadata": {
    "ExecuteTime": {
     "end_time": "2024-12-04T14:40:18.146557Z",
     "start_time": "2024-12-04T14:40:18.119288Z"
    }
   },
   "cell_type": "code",
   "source": "a2",
   "id": "98feef6f11254df",
   "outputs": [
    {
     "data": {
      "text/plain": [
       "12x^2+8x+4"
      ]
     },
     "execution_count": 16,
     "metadata": {},
     "output_type": "execute_result"
    }
   ],
   "execution_count": 16
  },
  {
   "metadata": {
    "ExecuteTime": {
     "end_time": "2024-12-04T15:07:55.556832Z",
     "start_time": "2024-12-04T15:07:55.487176Z"
    }
   },
   "cell_type": "code",
   "source": "a2.add_mod(a1,2)",
   "id": "bc3acc6e517a58d0",
   "outputs": [
    {
     "data": {
      "text/plain": [
       "15x^2+10x+5"
      ]
     },
     "execution_count": 17,
     "metadata": {},
     "output_type": "execute_result"
    }
   ],
   "execution_count": 17
  },
  {
   "metadata": {
    "ExecuteTime": {
     "end_time": "2024-12-04T15:10:35.995886Z",
     "start_time": "2024-12-04T15:10:35.884437Z"
    }
   },
   "cell_type": "code",
   "source": "a2.substract_mod(a1,2)",
   "id": "5ad8dcfe03c7cd4a",
   "outputs": [
    {
     "data": {
      "text/plain": [
       "9x^2+6x+3"
      ]
     },
     "execution_count": 18,
     "metadata": {},
     "output_type": "execute_result"
    }
   ],
   "execution_count": 18
  },
  {
   "metadata": {
    "ExecuteTime": {
     "end_time": "2024-12-04T15:53:59.476994Z",
     "start_time": "2024-12-04T15:53:59.446907Z"
    }
   },
   "cell_type": "code",
   "source": [
    "a1 = Polynomial([-10,-3,1])\n",
    "a2 = Polynomial([2,1])\n",
    "\n",
    "a1.divide_by(a2,5)"
   ],
   "id": "bf51d9f88783dbb8",
   "outputs": [
    {
     "data": {
      "text/plain": [
       "(1.0x-5.0, )"
      ]
     },
     "execution_count": 41,
     "metadata": {},
     "output_type": "execute_result"
    }
   ],
   "execution_count": 41
  },
  {
   "metadata": {},
   "cell_type": "code",
   "outputs": [],
   "execution_count": null,
   "source": "",
   "id": "e70b9aad0567fd1e"
  }
 ],
 "metadata": {
  "kernelspec": {
   "display_name": "Python 3",
   "language": "python",
   "name": "python3"
  },
  "language_info": {
   "codemirror_mode": {
    "name": "ipython",
    "version": 2
   },
   "file_extension": ".py",
   "mimetype": "text/x-python",
   "name": "python",
   "nbconvert_exporter": "python",
   "pygments_lexer": "ipython2",
   "version": "2.7.6"
  }
 },
 "nbformat": 4,
 "nbformat_minor": 5
}
