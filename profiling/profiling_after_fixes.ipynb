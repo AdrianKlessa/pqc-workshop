{
 "cells": [
  {
   "cell_type": "code",
   "id": "initial_id",
   "metadata": {
    "collapsed": true,
    "ExecuteTime": {
     "end_time": "2025-01-16T12:57:59.787143Z",
     "start_time": "2025-01-16T12:57:59.724127Z"
    }
   },
   "source": [
    "import ntru\n",
    "import numpy as np\n",
    "from polynomial_helper import Polynomial"
   ],
   "outputs": [],
   "execution_count": 1
  },
  {
   "metadata": {
    "ExecuteTime": {
     "end_time": "2025-01-16T12:57:59.790669Z",
     "start_time": "2025-01-16T12:57:59.788136Z"
    }
   },
   "cell_type": "code",
   "source": [
    "N = 251\n",
    "p = 3\n",
    "q = 128\n",
    "d = 3\n",
    "\n",
    "ntru_system = ntru.NTRU(N, p, q, d)"
   ],
   "id": "1861142c392f3657",
   "outputs": [],
   "execution_count": 2
  },
  {
   "metadata": {
    "ExecuteTime": {
     "end_time": "2025-01-16T12:58:00.365288Z",
     "start_time": "2025-01-16T12:57:59.790669Z"
    }
   },
   "cell_type": "code",
   "source": [
    "import cProfile\n",
    "cProfile.run('ntru_system.generate_keys()')"
   ],
   "id": "81ef325b236b6319",
   "outputs": [
    {
     "name": "stdout",
     "output_type": "stream",
     "text": [
      "         629862 function calls (626715 primitive calls) in 0.567 seconds\n",
      "\n",
      "   Ordered by: standard name\n",
      "\n",
      "   ncalls  tottime  percall  cumtime  percall filename:lineno(function)\n",
      "    11174    0.005    0.000    0.042    0.000 <__array_function__ internals>:177(all)\n",
      "    23379    0.011    0.000    0.131    0.000 <__array_function__ internals>:177(any)\n",
      "       40    0.000    0.000    0.000    0.000 <__array_function__ internals>:177(array_equal)\n",
      "     5056    0.003    0.000    0.057    0.000 <__array_function__ internals>:177(convolve)\n",
      "     5667    0.003    0.000    0.011    0.000 <__array_function__ internals>:177(copy)\n",
      "        2    0.000    0.000    0.000    0.000 <__array_function__ internals>:177(copyto)\n",
      "        2    0.000    0.000    0.000    0.000 <__array_function__ internals>:177(delete)\n",
      "        4    0.000    0.000    0.000    0.000 <__array_function__ internals>:177(prod)\n",
      "        1    0.000    0.000    0.000    0.000 <__array_function__ internals>:177(sum)\n",
      "    23137    0.011    0.000    0.173    0.000 <__array_function__ internals>:177(trim_zeros)\n",
      "        1    0.000    0.000    0.567    0.567 <string>:1(<module>)\n",
      "       20    0.000    0.000    0.000    0.000 _methods.py:61(_all)\n",
      "        1    0.000    0.000    0.000    0.000 fromnumeric.py:2183(_sum_dispatcher)\n",
      "        1    0.000    0.000    0.000    0.000 fromnumeric.py:2188(sum)\n",
      "    23379    0.003    0.000    0.003    0.000 fromnumeric.py:2328(_any_dispatcher)\n",
      "    23379    0.014    0.000    0.101    0.000 fromnumeric.py:2333(any)\n",
      "    11174    0.001    0.000    0.001    0.000 fromnumeric.py:2427(_all_dispatcher)\n",
      "    11174    0.005    0.000    0.032    0.000 fromnumeric.py:2432(all)\n",
      "        4    0.000    0.000    0.000    0.000 fromnumeric.py:2950(_prod_dispatcher)\n",
      "        4    0.000    0.000    0.000    0.000 fromnumeric.py:2955(prod)\n",
      "    34558    0.033    0.000    0.113    0.000 fromnumeric.py:69(_wrapreduction)\n",
      "    34558    0.012    0.000    0.012    0.000 fromnumeric.py:70(<dictcomp>)\n",
      "    23137    0.002    0.000    0.002    0.000 function_base.py:1796(_trim_zeros)\n",
      "    23137    0.148    0.000    0.152    0.000 function_base.py:1800(trim_zeros)\n",
      "        2    0.000    0.000    0.000    0.000 function_base.py:5050(_delete_dispatcher)\n",
      "        2    0.000    0.000    0.000    0.000 function_base.py:5054(delete)\n",
      "     5667    0.001    0.000    0.001    0.000 function_base.py:867(_copy_dispatcher)\n",
      "     5667    0.002    0.000    0.006    0.000 function_base.py:871(copy)\n",
      "        2    0.000    0.000    0.000    0.000 multiarray.py:1079(copyto)\n",
      "        2    0.000    0.000    0.000    0.000 ntru.py:10(get_ternary_polynomial)\n",
      "        1    0.001    0.001    0.001    0.001 ntru.py:27(center_coefficients)\n",
      "        1    0.000    0.000    0.001    0.001 ntru.py:45(center_polynomial)\n",
      "        1    0.000    0.000    0.567    0.567 ntru.py:57(generate_keys)\n",
      "        2    0.000    0.000    0.211    0.106 ntru_polynomials_wrapper.py:27(extended_euclid)\n",
      "        2    0.000    0.000    0.211    0.106 ntru_polynomials_wrapper.py:47(inverse_z_prime)\n",
      "        1    0.000    0.000    0.416    0.416 ntru_polynomials_wrapper.py:56(inverse_z_prime_power)\n",
      "        2    0.000    0.000    0.542    0.271 ntru_polynomials_wrapper.py:71(get_inverse)\n",
      "        1    0.000    0.000    0.000    0.000 ntru_polynomials_wrapper.py:79(get_power_of_two)\n",
      "      189    0.004    0.000    0.200    0.001 ntru_polynomials_wrapper.py:8(ntru_division)\n",
      "        2    0.000    0.000    0.000    0.000 ntru_polynomials_wrapper.py:84(check_if_power_of_two)\n",
      "        2    0.000    0.000    0.000    0.000 numeric.py:150(ones)\n",
      "       40    0.000    0.000    0.000    0.000 numeric.py:2403(_array_equal_dispatcher)\n",
      "       40    0.000    0.000    0.000    0.000 numeric.py:2407(array_equal)\n",
      "     5056    0.001    0.000    0.001    0.000 numeric.py:751(_convolve_dispatcher)\n",
      "     5056    0.007    0.000    0.052    0.000 numeric.py:755(convolve)\n",
      "    23379    0.023    0.000    0.351    0.000 polynomial_helper.py:10(__init__)\n",
      "     7837    0.004    0.000    0.048    0.000 polynomial_helper.py:156(degree)\n",
      "    11174    0.018    0.000    0.062    0.000 polynomial_helper.py:162(is_zero)\n",
      "        1    0.000    0.000    0.000    0.000 polynomial_helper.py:196(evaluated_at_1)\n",
      "       40    0.000    0.000    0.000    0.000 polynomial_helper.py:200(__eq__)\n",
      "     3316    0.006    0.000    0.006    0.000 polynomial_helper.py:218(extendedGCD)\n",
      "5056/1911    0.009    0.000    0.386    0.000 polynomial_helper.py:22(multiply_mod)\n",
      "     3316    0.002    0.000    0.008    0.000 polynomial_helper.py:229(multiplicative_inverse)\n",
      "     7598    0.027    0.000    0.112    0.000 polynomial_helper.py:41(add_mod)\n",
      "     3886    0.010    0.000    0.115    0.000 polynomial_helper.py:62(substract_mod)\n",
      "     1781    0.004    0.000    0.026    0.000 polynomial_helper.py:73(reduced_modulo_scalar)\n",
      "       20    0.013    0.001    0.353    0.018 polynomial_helper.py:83(divide_by)\n",
      "        1    0.000    0.000    0.567    0.567 {built-in method builtins.exec}\n",
      "     4493    0.002    0.000    0.002    0.000 {built-in method builtins.getattr}\n",
      "        5    0.000    0.000    0.000    0.000 {built-in method builtins.isinstance}\n",
      "    69731    0.004    0.000    0.004    0.000 {built-in method builtins.len}\n",
      "        2    0.000    0.000    0.000    0.000 {built-in method numpy.arange}\n",
      "    39158    0.030    0.000    0.030    0.000 {built-in method numpy.array}\n",
      "      104    0.000    0.000    0.000    0.000 {built-in method numpy.asarray}\n",
      "     5056    0.043    0.000    0.043    0.000 {built-in method numpy.core._multiarray_umath.correlate}\n",
      "68462/68460    0.033    0.000    0.375    0.000 {built-in method numpy.core._multiarray_umath.implement_array_function}\n",
      "        2    0.000    0.000    0.000    0.000 {built-in method numpy.empty}\n",
      "      569    0.000    0.000    0.000    0.000 {built-in method numpy.zeros}\n",
      "       20    0.000    0.000    0.000    0.000 {method 'all' of 'numpy.ndarray' objects}\n",
      "      251    0.000    0.000    0.000    0.000 {method 'append' of 'list' objects}\n",
      "        1    0.000    0.000    0.000    0.000 {method 'bit_length' of 'int' objects}\n",
      "        4    0.000    0.000    0.000    0.000 {method 'choice' of 'numpy.random.mtrand.RandomState' objects}\n",
      "     7598    0.004    0.000    0.004    0.000 {method 'copy' of 'numpy.ndarray' objects}\n",
      "        1    0.000    0.000    0.000    0.000 {method 'disable' of '_lsprof.Profiler' objects}\n",
      "    34558    0.003    0.000    0.003    0.000 {method 'items' of 'dict' objects}\n",
      "    34578    0.064    0.000    0.064    0.000 {method 'reduce' of 'numpy.ufunc' objects}\n",
      "    23137    0.002    0.000    0.002    0.000 {method 'upper' of 'str' objects}\n",
      "\n",
      "\n"
     ]
    }
   ],
   "execution_count": 3
  },
  {
   "metadata": {},
   "cell_type": "code",
   "outputs": [],
   "execution_count": null,
   "source": "",
   "id": "cbb88e004fc364de"
  }
 ],
 "metadata": {
  "kernelspec": {
   "display_name": "Python 3",
   "language": "python",
   "name": "python3"
  },
  "language_info": {
   "codemirror_mode": {
    "name": "ipython",
    "version": 2
   },
   "file_extension": ".py",
   "mimetype": "text/x-python",
   "name": "python",
   "nbconvert_exporter": "python",
   "pygments_lexer": "ipython2",
   "version": "2.7.6"
  }
 },
 "nbformat": 4,
 "nbformat_minor": 5
}
