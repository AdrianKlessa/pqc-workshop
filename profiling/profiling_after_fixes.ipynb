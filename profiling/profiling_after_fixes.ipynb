{
 "cells": [
  {
   "cell_type": "code",
   "id": "initial_id",
   "metadata": {
    "collapsed": true,
    "ExecuteTime": {
     "end_time": "2025-01-16T12:23:34.876125Z",
     "start_time": "2025-01-16T12:23:34.817568Z"
    }
   },
   "source": [
    "import ntru\n",
    "import numpy as np\n",
    "from polynomial_helper import Polynomial"
   ],
   "outputs": [],
   "execution_count": 1
  },
  {
   "metadata": {
    "ExecuteTime": {
     "end_time": "2025-01-16T12:23:34.879767Z",
     "start_time": "2025-01-16T12:23:34.876125Z"
    }
   },
   "cell_type": "code",
   "source": [
    "N = 251\n",
    "p = 3\n",
    "q = 128\n",
    "d = 3\n",
    "\n",
    "ntru_system = ntru.NTRU(N, p, q, d)"
   ],
   "id": "1861142c392f3657",
   "outputs": [],
   "execution_count": 2
  },
  {
   "metadata": {
    "ExecuteTime": {
     "end_time": "2025-01-16T12:23:36.869468Z",
     "start_time": "2025-01-16T12:23:35.454690Z"
    }
   },
   "cell_type": "code",
   "source": [
    "import cProfile\n",
    "cProfile.run('ntru_system.generate_keys()')"
   ],
   "id": "81ef325b236b6319",
   "outputs": [
    {
     "name": "stdout",
     "output_type": "stream",
     "text": [
      "         1041348 function calls (1038420 primitive calls) in 1.407 seconds\n",
      "\n",
      "   Ordered by: standard name\n",
      "\n",
      "   ncalls  tottime  percall  cumtime  percall filename:lineno(function)\n",
      "    32271    0.016    0.000    0.122    0.000 <__array_function__ internals>:177(all)\n",
      "     7227    0.004    0.000    0.050    0.000 <__array_function__ internals>:177(amax)\n",
      "    29929    0.015    0.000    0.161    0.000 <__array_function__ internals>:177(any)\n",
      "       40    0.000    0.000    0.000    0.000 <__array_function__ internals>:177(array_equal)\n",
      "     4941    0.003    0.000    0.053    0.000 <__array_function__ internals>:177(convolve)\n",
      "    12816    0.006    0.000    0.023    0.000 <__array_function__ internals>:177(copy)\n",
      "        2    0.000    0.000    0.000    0.000 <__array_function__ internals>:177(copyto)\n",
      "        2    0.000    0.000    0.000    0.000 <__array_function__ internals>:177(delete)\n",
      "     7227    0.003    0.000    0.021    0.000 <__array_function__ internals>:177(nonzero)\n",
      "        4    0.000    0.000    0.000    0.000 <__array_function__ internals>:177(prod)\n",
      "        1    0.000    0.000    0.000    0.000 <__array_function__ internals>:177(sum)\n",
      "    22459    0.011    0.000    0.171    0.000 <__array_function__ internals>:177(trim_zeros)\n",
      "        1    0.000    0.000    1.407    1.407 <string>:1(<module>)\n",
      "       20    0.000    0.000    0.000    0.000 _methods.py:61(_all)\n",
      "     7227    0.001    0.000    0.001    0.000 fromnumeric.py:1888(_nonzero_dispatcher)\n",
      "     7227    0.002    0.000    0.015    0.000 fromnumeric.py:1892(nonzero)\n",
      "        1    0.000    0.000    0.000    0.000 fromnumeric.py:2183(_sum_dispatcher)\n",
      "        1    0.000    0.000    0.000    0.000 fromnumeric.py:2188(sum)\n",
      "    29929    0.003    0.000    0.003    0.000 fromnumeric.py:2328(_any_dispatcher)\n",
      "    29929    0.015    0.000    0.120    0.000 fromnumeric.py:2333(any)\n",
      "    32271    0.004    0.000    0.004    0.000 fromnumeric.py:2427(_all_dispatcher)\n",
      "    32271    0.015    0.000    0.093    0.000 fromnumeric.py:2432(all)\n",
      "     7227    0.001    0.000    0.001    0.000 fromnumeric.py:2698(_amax_dispatcher)\n",
      "     7227    0.004    0.000    0.043    0.000 fromnumeric.py:2703(amax)\n",
      "        4    0.000    0.000    0.000    0.000 fromnumeric.py:2950(_prod_dispatcher)\n",
      "        4    0.000    0.000    0.000    0.000 fromnumeric.py:2955(prod)\n",
      "     7227    0.004    0.000    0.013    0.000 fromnumeric.py:51(_wrapfunc)\n",
      "    69432    0.065    0.000    0.221    0.000 fromnumeric.py:69(_wrapreduction)\n",
      "    69432    0.025    0.000    0.025    0.000 fromnumeric.py:70(<dictcomp>)\n",
      "    22459    0.002    0.000    0.002    0.000 function_base.py:1796(_trim_zeros)\n",
      "    22459    0.146    0.000    0.150    0.000 function_base.py:1800(trim_zeros)\n",
      "        2    0.000    0.000    0.000    0.000 function_base.py:5050(_delete_dispatcher)\n",
      "        2    0.000    0.000    0.000    0.000 function_base.py:5054(delete)\n",
      "    12816    0.001    0.000    0.001    0.000 function_base.py:867(_copy_dispatcher)\n",
      "    12816    0.003    0.000    0.012    0.000 function_base.py:871(copy)\n",
      "        2    0.000    0.000    0.000    0.000 multiarray.py:1079(copyto)\n",
      "        2    0.000    0.000    0.001    0.001 ntru.py:10(get_ternary_polynomial)\n",
      "        1    0.001    0.001    0.001    0.001 ntru.py:27(center_coefficients)\n",
      "        1    0.000    0.000    0.001    0.001 ntru.py:45(center_polynomial)\n",
      "        1    0.000    0.000    1.407    1.407 ntru.py:57(generate_keys)\n",
      "        2    0.000    0.000    0.299    0.150 ntru_polynomials_wrapper.py:27(extended_euclid)\n",
      "        2    0.000    0.000    0.299    0.150 ntru_polynomials_wrapper.py:47(inverse_z_prime)\n",
      "        1    0.000    0.000    1.143    1.143 ntru_polynomials_wrapper.py:56(inverse_z_prime_power)\n",
      "        2    0.000    0.000    1.315    0.657 ntru_polynomials_wrapper.py:71(get_inverse)\n",
      "        1    0.000    0.000    0.000    0.000 ntru_polynomials_wrapper.py:79(get_power_of_two)\n",
      "      188    0.004    0.000    0.271    0.001 ntru_polynomials_wrapper.py:8(ntru_division)\n",
      "        2    0.000    0.000    0.000    0.000 ntru_polynomials_wrapper.py:84(check_if_power_of_two)\n",
      "        2    0.000    0.000    0.000    0.000 numeric.py:150(ones)\n",
      "       40    0.000    0.000    0.000    0.000 numeric.py:2403(_array_equal_dispatcher)\n",
      "       40    0.000    0.000    0.000    0.000 numeric.py:2407(array_equal)\n",
      "     4941    0.001    0.000    0.001    0.000 numeric.py:751(_convolve_dispatcher)\n",
      "     4941    0.007    0.000    0.048    0.000 numeric.py:755(convolve)\n",
      "    22700    0.024    0.000    0.343    0.000 polynomial_helper.py:10(__init__)\n",
      "    29154    0.014    0.000    0.175    0.000 polynomial_helper.py:164(degree)\n",
      "    32271    0.054    0.000    0.178    0.000 polynomial_helper.py:170(is_zero)\n",
      "        1    0.000    0.000    0.000    0.000 polynomial_helper.py:204(evaluated_at_1)\n",
      "       40    0.000    0.000    0.000    0.000 polynomial_helper.py:208(__eq__)\n",
      "4941/2015    0.010    0.000    1.136    0.001 polynomial_helper.py:22(multiply_mod)\n",
      "     3096    0.006    0.000    0.006    0.000 polynomial_helper.py:226(extendedGCD)\n",
      "     3096    0.002    0.000    0.008    0.000 polynomial_helper.py:237(multiplicative_inverse)\n",
      "     7229    0.637    0.000    0.962    0.000 polynomial_helper.py:42(add_mod)\n",
      "     3701    0.010    0.000    0.662    0.000 polynomial_helper.py:70(substract_mod)\n",
      "     1886    0.005    0.000    0.026    0.000 polynomial_helper.py:81(reduced_modulo_scalar)\n",
      "       20    0.013    0.001    1.104    0.055 polynomial_helper.py:91(divide_by)\n",
      "        1    0.000    0.000    1.407    1.407 {built-in method builtins.exec}\n",
      "    18797    0.006    0.000    0.006    0.000 {built-in method builtins.getattr}\n",
      "        5    0.000    0.000    0.000    0.000 {built-in method builtins.isinstance}\n",
      "    80519    0.005    0.000    0.005    0.000 {built-in method builtins.len}\n",
      "        2    0.000    0.000    0.000    0.000 {built-in method numpy.arange}\n",
      "    45400    0.030    0.000    0.030    0.000 {built-in method numpy.array}\n",
      "      104    0.000    0.000    0.000    0.000 {built-in method numpy.asarray}\n",
      "     4941    0.038    0.000    0.038    0.000 {built-in method numpy.core._multiarray_umath.correlate}\n",
      "116919/116917    0.052    0.000    0.532    0.000 {built-in method numpy.core._multiarray_umath.implement_array_function}\n",
      "        2    0.000    0.000    0.000    0.000 {built-in method numpy.empty}\n",
      "      604    0.000    0.000    0.000    0.000 {built-in method numpy.zeros}\n",
      "       20    0.000    0.000    0.000    0.000 {method 'all' of 'numpy.ndarray' objects}\n",
      "      251    0.000    0.000    0.000    0.000 {method 'append' of 'list' objects}\n",
      "        1    0.000    0.000    0.000    0.000 {method 'bit_length' of 'int' objects}\n",
      "        4    0.000    0.000    0.000    0.000 {method 'choice' of 'numpy.random.mtrand.RandomState' objects}\n",
      "        1    0.000    0.000    0.000    0.000 {method 'disable' of '_lsprof.Profiler' objects}\n",
      "    69432    0.005    0.000    0.005    0.000 {method 'items' of 'dict' objects}\n",
      "     7227    0.008    0.000    0.008    0.000 {method 'nonzero' of 'numpy.ndarray' objects}\n",
      "    69452    0.121    0.000    0.121    0.000 {method 'reduce' of 'numpy.ufunc' objects}\n",
      "    22459    0.002    0.000    0.002    0.000 {method 'upper' of 'str' objects}\n",
      "\n",
      "\n"
     ]
    }
   ],
   "execution_count": 3
  },
  {
   "metadata": {},
   "cell_type": "code",
   "outputs": [],
   "execution_count": null,
   "source": "",
   "id": "daec67262a40f4bd"
  }
 ],
 "metadata": {
  "kernelspec": {
   "display_name": "Python 3",
   "language": "python",
   "name": "python3"
  },
  "language_info": {
   "codemirror_mode": {
    "name": "ipython",
    "version": 2
   },
   "file_extension": ".py",
   "mimetype": "text/x-python",
   "name": "python",
   "nbconvert_exporter": "python",
   "pygments_lexer": "ipython2",
   "version": "2.7.6"
  }
 },
 "nbformat": 4,
 "nbformat_minor": 5
}
