{
 "cells": [
  {
   "metadata": {
    "ExecuteTime": {
     "end_time": "2025-01-16T12:22:48.355047Z",
     "start_time": "2025-01-16T12:22:48.292636Z"
    }
   },
   "cell_type": "code",
   "source": [
    "import ntru\n",
    "import numpy as np\n",
    "from polynomial_helper import Polynomial"
   ],
   "id": "738b260ca7c604df",
   "outputs": [],
   "execution_count": 1
  },
  {
   "metadata": {
    "ExecuteTime": {
     "end_time": "2025-01-16T12:22:48.358566Z",
     "start_time": "2025-01-16T12:22:48.355047Z"
    }
   },
   "cell_type": "code",
   "source": [
    "N = 251\n",
    "p = 3\n",
    "q = 128\n",
    "d = 3\n",
    "\n",
    "ntru_system = ntru.NTRU(N, p, q, d)"
   ],
   "id": "37583ec258403d38",
   "outputs": [],
   "execution_count": 2
  },
  {
   "metadata": {
    "ExecuteTime": {
     "end_time": "2025-01-16T12:03:10.334943Z",
     "start_time": "2025-01-16T12:02:32.711246Z"
    }
   },
   "cell_type": "code",
   "source": [
    "import cProfile\n",
    "cProfile.run('ntru_system.generate_keys()')"
   ],
   "id": "initial_id",
   "outputs": [
    {
     "name": "stdout",
     "output_type": "stream",
     "text": [
      "         1128071 function calls (1125092 primitive calls) in 37.616 seconds\n",
      "\n",
      "   Ordered by: standard name\n",
      "\n",
      "   ncalls  tottime  percall  cumtime  percall filename:lineno(function)\n",
      "    32236    0.016    0.000    0.128    0.000 <__array_function__ internals>:177(all)\n",
      "    12026    0.006    0.000    0.092    0.000 <__array_function__ internals>:177(amax)\n",
      "    34316    0.020    0.000    0.315    0.000 <__array_function__ internals>:177(any)\n",
      "       40    0.000    0.000    0.000    0.000 <__array_function__ internals>:177(array_equal)\n",
      "    12631    0.007    0.000    0.027    0.000 <__array_function__ internals>:177(copy)\n",
      "        2    0.000    0.000    0.000    0.000 <__array_function__ internals>:177(copyto)\n",
      "        2    0.000    0.000    0.000    0.000 <__array_function__ internals>:177(delete)\n",
      "    12026    0.006    0.000    0.088    0.000 <__array_function__ internals>:177(nonzero)\n",
      "        4    0.000    0.000    0.000    0.000 <__array_function__ internals>:177(prod)\n",
      "        1    0.000    0.000    0.000    0.000 <__array_function__ internals>:177(sum)\n",
      "    22051    0.011    0.000    0.174    0.000 <__array_function__ internals>:177(trim_zeros)\n",
      "        1    0.000    0.000   37.616   37.616 <string>:1(<module>)\n",
      "       20    0.000    0.000    0.000    0.000 _methods.py:61(_all)\n",
      "    12026    0.001    0.000    0.001    0.000 fromnumeric.py:1888(_nonzero_dispatcher)\n",
      "    12026    0.004    0.000    0.076    0.000 fromnumeric.py:1892(nonzero)\n",
      "        1    0.000    0.000    0.000    0.000 fromnumeric.py:2183(_sum_dispatcher)\n",
      "        1    0.000    0.000    0.000    0.000 fromnumeric.py:2188(sum)\n",
      "    34316    0.004    0.000    0.004    0.000 fromnumeric.py:2328(_any_dispatcher)\n",
      "    34316    0.019    0.000    0.260    0.000 fromnumeric.py:2333(any)\n",
      "    32236    0.004    0.000    0.004    0.000 fromnumeric.py:2427(_all_dispatcher)\n",
      "    32236    0.016    0.000    0.097    0.000 fromnumeric.py:2432(all)\n",
      "    12026    0.001    0.000    0.001    0.000 fromnumeric.py:2698(_amax_dispatcher)\n",
      "    12026    0.007    0.000    0.080    0.000 fromnumeric.py:2703(amax)\n",
      "        4    0.000    0.000    0.000    0.000 fromnumeric.py:2950(_prod_dispatcher)\n",
      "        4    0.000    0.000    0.000    0.000 fromnumeric.py:2955(prod)\n",
      "     4814    0.007    0.000    0.054    0.000 fromnumeric.py:38(_wrapit)\n",
      "    12026    0.008    0.000    0.072    0.000 fromnumeric.py:51(_wrapfunc)\n",
      "    78583    0.087    0.000    0.394    0.000 fromnumeric.py:69(_wrapreduction)\n",
      "    78583    0.030    0.000    0.030    0.000 fromnumeric.py:70(<dictcomp>)\n",
      "    22051    0.002    0.000    0.002    0.000 function_base.py:1796(_trim_zeros)\n",
      "    22051    0.148    0.000    0.152    0.000 function_base.py:1800(trim_zeros)\n",
      "        2    0.000    0.000    0.000    0.000 function_base.py:5050(_delete_dispatcher)\n",
      "        2    0.000    0.000    0.000    0.000 function_base.py:5054(delete)\n",
      "    12631    0.001    0.000    0.001    0.000 function_base.py:867(_copy_dispatcher)\n",
      "    12631    0.004    0.000    0.015    0.000 function_base.py:871(copy)\n",
      "        2    0.000    0.000    0.000    0.000 multiarray.py:1079(copyto)\n",
      "        2    0.000    0.000    0.002    0.001 ntru.py:10(get_ternary_polynomial)\n",
      "        1    0.001    0.001    0.001    0.001 ntru.py:27(center_coefficients)\n",
      "        1    0.000    0.000    0.001    0.001 ntru.py:45(center_polynomial)\n",
      "        1    0.000    0.000   37.616   37.616 ntru.py:57(generate_keys)\n",
      "        2    0.001    0.000    2.273    1.137 ntru_polynomials_wrapper.py:27(extended_euclid)\n",
      "        2    0.000    0.000    2.274    1.137 ntru_polynomials_wrapper.py:47(inverse_z_prime)\n",
      "        1    0.000    0.000   33.499   33.499 ntru_polynomials_wrapper.py:56(inverse_z_prime_power)\n",
      "        2    0.000    0.000   34.740   17.370 ntru_polynomials_wrapper.py:71(get_inverse)\n",
      "        1    0.000    0.000    0.000    0.000 ntru_polynomials_wrapper.py:79(get_power_of_two)\n",
      "      175    0.005    0.000    2.168    0.012 ntru_polynomials_wrapper.py:8(ntru_division)\n",
      "        2    0.000    0.000    0.000    0.000 ntru_polynomials_wrapper.py:84(check_if_power_of_two)\n",
      "        2    0.000    0.000    0.000    0.000 numeric.py:150(ones)\n",
      "       40    0.000    0.000    0.000    0.000 numeric.py:2403(_array_equal_dispatcher)\n",
      "       40    0.000    0.000    0.000    0.000 numeric.py:2407(array_equal)\n",
      "    22279    0.027    0.000    0.430    0.000 polynomial_helper.py:10(__init__)\n",
      "       20    0.020    0.001   35.037    1.752 polynomial_helper.py:104(divide_by)\n",
      "    29081    0.015    0.000    0.185    0.000 polynomial_helper.py:177(degree)\n",
      "    32236    0.057    0.000    0.187    0.000 polynomial_helper.py:183(is_zero)\n",
      "        1    0.000    0.000    0.000    0.000 polynomial_helper.py:217(evaluated_at_1)\n",
      "4823/1846   35.889    0.007   37.332    0.020 polynomial_helper.py:22(multiply_mod)\n",
      "       40    0.000    0.000    0.000    0.000 polynomial_helper.py:221(__eq__)\n",
      "     3134    0.007    0.000    0.007    0.000 polynomial_helper.py:239(extendedGCD)\n",
      "     3134    0.002    0.000    0.009    0.000 polynomial_helper.py:250(multiplicative_inverse)\n",
      "     4823    0.048    0.000    0.048    0.000 polynomial_helper.py:32(<listcomp>)\n",
      "     7214    0.633    0.000    0.974    0.000 polynomial_helper.py:54(add_mod)\n",
      "     3687    0.014    0.000    0.681    0.000 polynomial_helper.py:82(substract_mod)\n",
      "     1730    0.019    0.000    0.055    0.000 polynomial_helper.py:93(reduced_modulo_scalar)\n",
      "        1    0.000    0.000   37.616   37.616 {built-in method builtins.exec}\n",
      "    44510    0.014    0.000    0.014    0.000 {built-in method builtins.getattr}\n",
      "        5    0.000    0.000    0.000    0.000 {built-in method builtins.isinstance}\n",
      "    62131    0.005    0.000    0.005    0.000 {built-in method builtins.len}\n",
      "        2    0.000    0.000    0.000    0.000 {built-in method numpy.arange}\n",
      "    34921    0.057    0.000    0.057    0.000 {built-in method numpy.array}\n",
      "     4918    0.041    0.000    0.041    0.000 {built-in method numpy.asarray}\n",
      "125335/125333    0.064    0.000    0.744    0.000 {built-in method numpy.core._multiarray_umath.implement_array_function}\n",
      "        2    0.000    0.000    0.000    0.000 {built-in method numpy.empty}\n",
      "      552    0.000    0.000    0.000    0.000 {built-in method numpy.zeros}\n",
      "       20    0.000    0.000    0.000    0.000 {method 'all' of 'numpy.ndarray' objects}\n",
      "      251    0.000    0.000    0.000    0.000 {method 'append' of 'list' objects}\n",
      "        1    0.000    0.000    0.000    0.000 {method 'bit_length' of 'int' objects}\n",
      "        4    0.001    0.000    0.001    0.000 {method 'choice' of 'numpy.random.mtrand.RandomState' objects}\n",
      "        1    0.000    0.000    0.000    0.000 {method 'disable' of '_lsprof.Profiler' objects}\n",
      "    78583    0.006    0.000    0.006    0.000 {method 'items' of 'dict' objects}\n",
      "    12026    0.014    0.000    0.014    0.000 {method 'nonzero' of 'numpy.ndarray' objects}\n",
      "    78603    0.259    0.000    0.259    0.000 {method 'reduce' of 'numpy.ufunc' objects}\n",
      "     1730    0.001    0.000    0.001    0.000 {method 'tolist' of 'numpy.ndarray' objects}\n",
      "    22051    0.002    0.000    0.002    0.000 {method 'upper' of 'str' objects}\n",
      "\n",
      "\n"
     ]
    }
   ],
   "execution_count": 3
  },
  {
   "metadata": {},
   "cell_type": "markdown",
   "source": "So apparently polynomial multiplication takes the vast majority of time during key generation",
   "id": "eeadb84e6cfec64a"
  },
  {
   "metadata": {},
   "cell_type": "code",
   "outputs": [],
   "execution_count": null,
   "source": [
    "public_key, private_key = ntru_system.generate_keys()\n",
    "message = Polynomial(np.random.choice([-1,0,1],N-1))\n",
    "ciphertext = ntru_system.encrypt(public_key, message)\n",
    "decrypted_message = ntru_system.decrypt(ciphertext, private_key)"
   ],
   "id": "9f3dcfc2b3194aa1"
  }
 ],
 "metadata": {
  "kernelspec": {
   "display_name": "Python 3",
   "language": "python",
   "name": "python3"
  },
  "language_info": {
   "codemirror_mode": {
    "name": "ipython",
    "version": 2
   },
   "file_extension": ".py",
   "mimetype": "text/x-python",
   "name": "python",
   "nbconvert_exporter": "python",
   "pygments_lexer": "ipython2",
   "version": "2.7.6"
  }
 },
 "nbformat": 4,
 "nbformat_minor": 5
}
